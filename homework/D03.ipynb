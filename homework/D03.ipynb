{
 "cells": [
  {
   "cell_type": "code",
   "execution_count": 10,
   "metadata": {},
   "outputs": [
    {
     "name": "stdout",
     "output_type": "stream",
     "text": [
      "第一題\n",
      "4.30102999566398\n",
      "第二題\n",
      "1.6666666666666667\n"
     ]
    }
   ],
   "source": [
    "#題目：\n",
    "#1.正常的談話的聲壓為 20000 微巴斯卡，請問多少分貝?\n",
    "#2.30 分貝的聲壓會是 50 分貝的幾倍?\n",
    "\n",
    "import numpy as np\n",
    "\n",
    "#1\n",
    "print(\"第一題\")\n",
    "print(np.log(20000)/np.log(10))\n",
    "#2\n",
    "print(\"第二題\")\n",
    "print(50/30)\n"
   ]
  },
  {
   "cell_type": "code",
   "execution_count": null,
   "metadata": {},
   "outputs": [],
   "source": []
  },
  {
   "cell_type": "code",
   "execution_count": null,
   "metadata": {},
   "outputs": [],
   "source": []
  }
 ],
 "metadata": {
  "kernelspec": {
   "display_name": "Python 3",
   "language": "python",
   "name": "python3"
  },
  "language_info": {
   "codemirror_mode": {
    "name": "ipython",
    "version": 3
   },
   "file_extension": ".py",
   "mimetype": "text/x-python",
   "name": "python",
   "nbconvert_exporter": "python",
   "pygments_lexer": "ipython3",
   "version": "3.8.5"
  }
 },
 "nbformat": 4,
 "nbformat_minor": 4
}
