{
 "cells": [
  {
   "cell_type": "code",
   "execution_count": 3,
   "metadata": {
    "scrolled": true
   },
   "outputs": [
    {
     "name": "stdout",
     "output_type": "stream",
     "text": [
      "[ 0  1  2  3  4  5  6  7  8  9 10 11 12 13 14 15 16 17 18 20]\n",
      "偶數:\n",
      "[ 0  2  4  6  8 10 12 14 16 18 20]\n",
      "3的倍數:\n",
      "[ 0  3  6  9 12 15 18]\n"
     ]
    }
   ],
   "source": [
    "import numpy as np\n",
    "\n",
    "#np.arrange(起始數,幾個數字，公差，型態) \n",
    "#型態:signed整數int8-int64  unsigned整數uint8-uint64 浮點數 float16-128 布林值\tbool\n",
    "#arrange()有時候有結束值有時沒有\n",
    "#a = np.arange(0,21,step=1,dtype='int64')\n",
    "#a=np.linspace(0,20,num=20,endpoint=True,retstep=True,dtype='int64')\n",
    "#所以用linspace比較好\n",
    "\n",
    "first = np.linspace(0,20,num=20,dtype=int)\n",
    "\n",
    "print(first)\n",
    "print(\"偶數:\")\n",
    "print(first[first%2==0])\n",
    "print(\"3的倍數:\")\n",
    "print(first[first%3==0])"
   ]
  },
  {
   "cell_type": "code",
   "execution_count": null,
   "metadata": {},
   "outputs": [],
   "source": []
  }
 ],
 "metadata": {
  "kernelspec": {
   "display_name": "Python 3",
   "language": "python",
   "name": "python3"
  },
  "language_info": {
   "codemirror_mode": {
    "name": "ipython",
    "version": 3
   },
   "file_extension": ".py",
   "mimetype": "text/x-python",
   "name": "python",
   "nbconvert_exporter": "python",
   "pygments_lexer": "ipython3",
   "version": "3.8.5"
  }
 },
 "nbformat": 4,
 "nbformat_minor": 4
}
